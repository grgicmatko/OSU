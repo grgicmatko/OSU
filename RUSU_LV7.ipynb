{
  "nbformat": 4,
  "nbformat_minor": 0,
  "metadata": {
    "colab": {
      "provenance": [],
      "gpuType": "T4",
      "include_colab_link": true
    },
    "kernelspec": {
      "name": "python3",
      "display_name": "Python 3"
    },
    "language_info": {
      "name": "python"
    },
    "accelerator": "GPU"
  },
  "cells": [
    {
      "cell_type": "markdown",
      "metadata": {
        "id": "view-in-github",
        "colab_type": "text"
      },
      "source": [
        "<a href=\"https://colab.research.google.com/github/grgicmatko/OSU/blob/master/RUSU_LV7.ipynb\" target=\"_parent\"><img src=\"https://colab.research.google.com/assets/colab-badge.svg\" alt=\"Open In Colab\"/></a>"
      ]
    },
    {
      "cell_type": "markdown",
      "source": [
        "# Sijamsko učenje\n",
        "\n",
        "Sijamsko učenje (*siamese learning*) je tehnika u strojnom učenju koja koristi paralelne neuronske mreže sa zajedničkim težinama kako bi naučile efikasnu reprezentaciju ulaznih podataka. Osnovna ideja sijamskog učenja je omogućiti mreži učenje sličnosti (*similarity learning*) između parova ulaznih primjera. Primjene uključuju prepoznavanje lica, prepoznavanje otiska prsta, verifikacija potpisa, grupiranje podataka, praćenje objekata u video zapisima itd.\n",
        "\n",
        "Sijamska mreža sastoji se od dvije identične mreže koje dijele težine. Te mreže primaju različite ulaze te generiraju reprezentacije u nižedimenzionlanom prostori (*embeddings*) za svaki od ulaza. Zatim se mjeri udaljenost između *embeddinga*.\n",
        "\n",
        "Prilikom treninga mreža treba naučiti generirati takve reprezentacije da je za ulaze iste klase (pozitivni parovi) udaljenost između reprezentacija mala, a za ulaze različitih klasa (negativni parovi) udaljenost između reprezentacija veća."
      ],
      "metadata": {
        "id": "oDvZZPYMRup9"
      }
    },
    {
      "cell_type": "markdown",
      "source": [
        "## Kontrastni gubitak (*constrastive loss*)\n",
        "\n",
        "Kontrastni gubitak definiran je na sljedeći način:\n",
        "$$L(x_1, x_2) = y * d(f(x_1), f(x_2))^2 + (1 - y) * max(0, m^2 - d(f(x_1), f(x_2))^2)$$\n",
        "\n",
        "$y$ je 1 ako su ulazne slike iste klase, 0 inače. $d(f(x_1), f(x_2))$ predstavlja udaljenost između *embeddinga* ulaznih slika. $m$ je proizvoljno odabrana margina, ako nam je udaljenost između reprezentacija negativnih parova veća od $m^2$, vrijednost funkcije gubitka će biti 0.\n",
        "\n",
        "Za mjeru udaljenosti se može koristiti L2 udaljenost:\n",
        "$$d(a, b) = \\sqrt{\\sum_{i=1}^n{(a_i - b_i)^2}}$$\n",
        "\n",
        "Kako bi udaljenost između reprezentacija bila ograničena, često se reprezentacije normaliziraju. Na ovaj način će sve reprezentacije biti točke na jediničnoj kružnici. Normiranje vektora:\n",
        "$$v_{norm} = \\frac{v}{||v||_2}$$"
      ],
      "metadata": {
        "id": "dnj7Avxylj8Z"
      }
    },
    {
      "cell_type": "markdown",
      "source": [
        "## Podatkovni skup\n",
        "\n",
        "Podatkovni skupovi za primjene za koje se koristi sijamsko učenje često imaju velik broj klasa i mali broj primjera za svaku klasu, stoga bi se nasumičnim odabiranjem parova dobio jako velik broj negativnih parova. Zbog ovoga bi mreža vrlo teško naučila raditi s pozitivnim parovima. Jedan od načina da se ovo riješi je da se generira takav podatkovni skup gdje je podjednak broj pozitivnih i negativnih parova.\n",
        "\n",
        "U nastavku je implementirano generiranje jednog ovakvog podatkovnog skupa na temelju [Omniglot](https://pytorch.org/vision/main/generated/torchvision.datasets.Omniglot.html) podatkovnog skupa."
      ],
      "metadata": {
        "id": "HRPrZlbDn6BG"
      }
    },
    {
      "cell_type": "code",
      "source": [
        "## Importing useful libraries\n",
        "import os\n",
        "import math\n",
        "import numpy as np\n",
        "import time\n",
        "import torch\n",
        "import torch.nn as nn\n",
        "import torch.nn.functional as F\n",
        "import torch.utils.data as data\n",
        "import torchvision.transforms as transforms\n",
        "import torchvision\n",
        "from torchsummary import summary\n",
        "\n",
        "import matplotlib.pyplot as plt\n",
        "from imageio.v2 import imread\n",
        "%matplotlib inline\n",
        "\n",
        "from tqdm.notebook import tqdm\n",
        "\n",
        "device = torch.device(\"cuda\") if torch.cuda.is_available() else torch.device(\"cpu\")\n",
        "print(\"Device\", device)\n",
        "\n",
        "from torch.utils.tensorboard import SummaryWriter\n",
        "\n",
        "%load_ext tensorboard"
      ],
      "metadata": {
        "id": "T5PQuVBZwGCI",
        "outputId": "a4bdecf8-2435-4907-9cfa-5eff5c6ccec0",
        "colab": {
          "base_uri": "https://localhost:8080/"
        }
      },
      "execution_count": 37,
      "outputs": [
        {
          "output_type": "stream",
          "name": "stdout",
          "text": [
            "Device cuda\n",
            "The tensorboard extension is already loaded. To reload it, use:\n",
            "  %reload_ext tensorboard\n"
          ]
        }
      ]
    },
    {
      "cell_type": "code",
      "source": [
        "batch_size = 128"
      ],
      "metadata": {
        "id": "087RYrMDwR_C"
      },
      "execution_count": 38,
      "outputs": []
    },
    {
      "cell_type": "code",
      "source": [
        "import random\n",
        "from torch.utils.data import DataLoader, Dataset\n",
        "\n",
        "class MatchedDataset(Dataset):\n",
        "  def __init__(self, original_dataset):\n",
        "    self.grouped = {}\n",
        "    self.size = len(original_dataset)\n",
        "    for i, c in original_dataset:\n",
        "      if c not in self.grouped:\n",
        "        self.grouped[c] = []\n",
        "      self.grouped[c].append(i)\n",
        "\n",
        "    self.classes = list(self.grouped.keys())\n",
        "\n",
        "  def __getitem__(self, index):\n",
        "    cls0 = random.choice(self.classes)\n",
        "    image0_idx = random.randint(0, len(self.grouped[cls0]) - 1)\n",
        "    image0 = self.grouped[cls0][image0_idx]\n",
        "    ## select random label, 1 for same class, 0 for different class\n",
        "    label = random.randint(0,1)\n",
        "    if label:\n",
        "      ## select a different image of the same class\n",
        "      while True:\n",
        "        image1_idx = random.randint(0, len(self.grouped[cls0]) - 1)\n",
        "        if image0_idx != image1_idx:\n",
        "          image1 = self.grouped[cls0][image1_idx]\n",
        "          break\n",
        "    else:\n",
        "      ## select a random image from a different class\n",
        "      while True:\n",
        "        cls1 = random.choice(self.classes)\n",
        "        if cls0 != cls1:\n",
        "          image1 = random.choice(self.grouped[cls1])\n",
        "          break\n",
        "\n",
        "    return image0, image1, label\n",
        "\n",
        "  def __len__(self):\n",
        "    return self.size"
      ],
      "metadata": {
        "id": "IDzKW4h53TVS"
      },
      "execution_count": 39,
      "outputs": []
    },
    {
      "cell_type": "code",
      "execution_count": 40,
      "metadata": {
        "id": "W0w3K3ykMyDX"
      },
      "outputs": [],
      "source": [
        "%%capture\n",
        "import torchvision.transforms as transforms\n",
        "from torchvision.datasets import Omniglot\n",
        "\n",
        "img_transform = transforms.Compose([\n",
        "    transforms.ToTensor()\n",
        "])\n",
        "\n",
        "train_original_dataset = Omniglot(root='./data/Omniglot', download=True, background=True, transform=img_transform)\n",
        "train_dataset = MatchedDataset(train_original_dataset)\n",
        "train_dataloader = DataLoader(train_dataset, batch_size=batch_size, shuffle=True)\n",
        "\n",
        "test_original_dataset = Omniglot(root='./data/Omniglot', download=True, background=False, transform=img_transform)\n",
        "test_dataset = MatchedDataset(test_original_dataset)\n",
        "test_dataloader = DataLoader(test_dataset, batch_size=batch_size, shuffle=True)"
      ]
    },
    {
      "cell_type": "code",
      "source": [
        "plt.imshow(next(iter(train_dataloader))[0][0].numpy().transpose(1, 2, 0))"
      ],
      "metadata": {
        "id": "82mdhjxKwT14",
        "outputId": "76b5143c-3f7b-4c72-ddd1-40b717e10f29",
        "colab": {
          "base_uri": "https://localhost:8080/",
          "height": 451
        }
      },
      "execution_count": 41,
      "outputs": [
        {
          "output_type": "execute_result",
          "data": {
            "text/plain": [
              "<matplotlib.image.AxesImage at 0x7fc49d1fbfa0>"
            ]
          },
          "metadata": {},
          "execution_count": 41
        },
        {
          "output_type": "display_data",
          "data": {
            "text/plain": [
              "<Figure size 640x480 with 1 Axes>"
            ],
            "image/png": "[encoded data removed]"
          },
          "metadata": {}
        }
      ]
    },
    {
      "cell_type": "markdown",
      "source": [
        "## Zadaci\n",
        "\n",
        "1. Proučite podatkovni skup, prikažite primjere pozitivnih i negativnih parova.\n",
        "\n",
        "2. Prilagodite neuronsku mrežu iz 3. laboratorijske vježbe kako bi primala dvije slike iz Omniglot podatkovnog skupa i generirala reprezentacije tih ulaza. Za ovo je potrebno izbaciti posljednji, klasifikacijski, sloj te uklonite aktivacijsku funkciju novog posljednjeg sloja. Izlaze iz posljednjeg sloja [normalizirajte](https://pytorch.org/docs/stable/generated/torch.nn.functional.normalize.html).\n",
        "\n",
        "3. Implementirajte funkciju kontrastnog gubitka.\n",
        "\n",
        "4. Implementirajte funkciju za treniranje te trenirajte mrežu.\n",
        "\n",
        "5. Evaluirajte istreniranu mrežu na podacima za testiranje. Funkcija za evaluaciju treba računati točnost, preciznost i odziv. Prilikom evaluacije, potrebno je odabrati prag minimalne udaljenosti za koje će ulazne slike biti klasificirane kao različite. Evaluirajte mrežu s različitim vrijednostima te skicirajte vrijednosti točnosti, preciznosti i odziva u ovisnosti o pragu. Pomoću ove krivulje, odaberite optimalnu vrijednost praga za klasifikaciju."
      ],
      "metadata": {
        "id": "D1Ub3qVvp_-k"
      }
    },
    {
      "cell_type": "code",
      "source": [
        "while True:\n",
        "    img1, img2, label = train_dataset[0]\n",
        "\n",
        "    # Check if the label has a value of 1\n",
        "    if label == 1:\n",
        "        break  # Exit the loop if the condition is met\n",
        "\n",
        "fig, axes = plt.subplots(1, 2)\n",
        "\n",
        "# Plot the first image on the left subplot\n",
        "axes[0].imshow(img1.numpy().transpose(1, 2, 0))\n",
        "axes[0].set_title('Image 1')\n",
        "\n",
        "# Plot the second image on the right subplot\n",
        "axes[1].imshow(img2.numpy().transpose(1, 2, 0))\n",
        "axes[1].set_title('Image 2')"
      ],
      "metadata": {
        "id": "5YsDKqIHepis",
        "outputId": "ab0fdd08-144c-47e9-e4b2-8e34ff94402e",
        "colab": {
          "base_uri": "https://localhost:8080/",
          "height": 325
        }
      },
      "execution_count": 58,
      "outputs": [
        {
          "output_type": "execute_result",
          "data": {
            "text/plain": [
              "Text(0.5, 1.0, 'Image 2')"
            ]
          },
          "metadata": {},
          "execution_count": 58
        },
        {
          "output_type": "display_data",
          "data": {
            "text/plain": [
              "<Figure size 640x480 with 2 Axes>"
            ],
            "image/png": "[encoded data removed]"
          },
          "metadata": {}
        }
      ]
    },
    {
      "cell_type": "code",
      "source": [
        "class SiameseNN(nn.Module):\n",
        "\n",
        "    def __init__(self):\n",
        "        super().__init__()\n",
        "        # Initialize the modules we need to build the network\n",
        "        self.pool=nn.MaxPool2d(2,2)\n",
        "        self.conv1=nn.Conv2d(1,16,3,padding='same')\n",
        "        self.conv2=nn.Conv2d(16,32,3,padding='same')\n",
        "        self.conv3=nn.Conv2d(32,32,3,padding='same')\n",
        "        self.conv4=nn.Conv2d(32,64,3,padding='same')\n",
        "        self.conv5=nn.Conv2d(64,64,3,padding='same')\n",
        "        self.conv6=nn.Conv2d(64,128,3,padding='same')\n",
        "        self.conv7=nn.Conv2d(128,128,3,padding='same')\n",
        "        self.conv8=nn.Conv2d(128,128,3,padding='same')\n",
        "        self.conv9=nn.Conv2d(128,512,3,padding='same')\n",
        "        self.conv10=nn.Conv2d(512,512,3,padding='same')\n",
        "        self.conv11=nn.Conv2d(512,512,3,padding='same')\n",
        "        self.conv12=nn.Conv2d(512,512,3,padding='same')\n",
        "        self.flatten=nn.Flatten()\n",
        "        self.actfn=nn.ReLU()\n",
        "        self.dropout=nn.Dropout(p=0.5)\n",
        "        self.dropout2d=nn.Dropout(p=0.5)\n",
        "        self.batchnorm1=nn.BatchNorm2d(16)\n",
        "        self.batchnorm2=nn.BatchNorm2d(32)\n",
        "        self.batchnorm3=nn.BatchNorm2d(32)\n",
        "        self.batchnorm4=nn.BatchNorm2d(64)\n",
        "        self.batchnorm5=nn.BatchNorm2d(64)\n",
        "        self.batchnorm6=nn.BatchNorm2d(128)\n",
        "        self.batchnorm7=nn.BatchNorm2d(128)\n",
        "        self.batchnorm8=nn.BatchNorm2d(128)\n",
        "        self.batchnorm9=nn.BatchNorm2d(512)\n",
        "        self.batchnorm10=nn.BatchNorm2d(512)\n",
        "        self.batchnorm11=nn.BatchNorm2d(512)\n",
        "        self.batchnorm12=nn.BatchNorm2d(512)\n",
        "        self.finalactfn=nn.Tanh()\n",
        "\n",
        "    def forward1(self, x):\n",
        "        # Perform the calculation of the model to determine the prediction\n",
        "        x=self.conv1(x)\n",
        "        x=self.batchnorm1(x)\n",
        "        x=self.actfn(x)\n",
        "\n",
        "        x=self.conv2(x)\n",
        "        x=self.batchnorm2(x)\n",
        "        x=self.actfn(x)\n",
        "\n",
        "        x=self.pool(x)\n",
        "        x=self.dropout2d(x)\n",
        "\n",
        "        x=self.conv3(x)\n",
        "        x=self.batchnorm3(x)\n",
        "        x=self.actfn(x)\n",
        "\n",
        "        x=self.conv4(x)\n",
        "        x=self.batchnorm4(x)\n",
        "        x=self.actfn(x)\n",
        "\n",
        "        x=self.pool(x)\n",
        "        x=self.dropout2d(x)\n",
        "\n",
        "        x=self.conv5(x)\n",
        "        x=self.batchnorm5(x)\n",
        "        x=self.actfn(x)\n",
        "\n",
        "        x=self.conv6(x)\n",
        "        x=self.batchnorm6(x)\n",
        "        x=self.actfn(x)\n",
        "\n",
        "        x=self.pool(x)\n",
        "        x=self.dropout2d(x)\n",
        "\n",
        "        x=self.conv7(x)\n",
        "        x=self.batchnorm7(x)\n",
        "        x=self.actfn(x)\n",
        "\n",
        "        x=self.conv8(x)\n",
        "        x=self.batchnorm8(x)\n",
        "        x=self.actfn(x)\n",
        "\n",
        "        x=self.conv9(x)\n",
        "        x=self.batchnorm9(x)\n",
        "        x=self.actfn(x)\n",
        "\n",
        "        x=self.pool(x)\n",
        "        x=self.dropout2d(x)\n",
        "\n",
        "        x=self.conv10(x)\n",
        "        x=self.batchnorm10(x)\n",
        "        x=self.actfn(x)\n",
        "\n",
        "        x=self.conv11(x)\n",
        "        x=self.batchnorm11(x)\n",
        "        x=self.actfn(x)\n",
        "\n",
        "        x=self.conv12(x)\n",
        "        x=self.batchnorm12(x)\n",
        "        x=self.actfn(x)\n",
        "\n",
        "        x=self.pool(x)\n",
        "\n",
        "        x=self.flatten(x)\n",
        "\n",
        "        x = F.normalize(x)\n",
        "        return x\n",
        "\n",
        "    def forward(self, x1, x2):\n",
        "        output1 = self.forward1(x1)\n",
        "        output2 = self.forward1(x2)\n",
        "        return output1, output2"
      ],
      "metadata": {
        "id": "7Vhd9UMDo-_r"
      },
      "execution_count": 49,
      "outputs": []
    },
    {
      "cell_type": "code",
      "source": [
        "def train_model(model, optimizer, train_data_loader, loss_module, num_epochs=100):\n",
        "    # Set model to train mode\n",
        "    model_plotted = False\n",
        "    model.train()\n",
        "\n",
        "    # Training loop\n",
        "    for epoch in range(num_epochs):\n",
        "        epoch_loss = 0.0\n",
        "\n",
        "\n",
        "        for data_inputs1, data_inputs2, data_labels in tqdm(train_data_loader, 'Epoch %d'%(epoch + 1)):\n",
        "\n",
        "            ## Step 1: Move input data to device\n",
        "            data_inputs1, data_inputs2, data_labels = data_inputs1.to(device), data_inputs2.to(device), data_labels.to(device)\n",
        "\n",
        "            ## Step 2: Run the model on the input data\n",
        "            outputs1, outputs2 = model(data_inputs1, data_inputs2)\n",
        "\n",
        "            ## Step 3: Calculate the loss\n",
        "            loss = loss_module(outputs1, outputs2, data_labels)\n",
        "\n",
        "            ## Step 4: Perform backpropagation\n",
        "            optimizer.zero_grad()\n",
        "            # Perform backpropagation\n",
        "            loss.backward()\n",
        "\n",
        "            ## Step 5: Update the parameters\n",
        "            optimizer.step()\n",
        "\n",
        "            epoch_loss += loss.item() * len(data_inputs1)\n",
        "\n",
        "        # Add average loss to TensorBoard\n",
        "        epoch_loss /= len(train_data_loader.dataset)\n",
        "\n",
        "        print(f\"Training loss of the model: {100.0*epoch_loss:4.2f}%\")"
      ],
      "metadata": {
        "id": "_6fDkQ-fpu7D"
      },
      "execution_count": null,
      "outputs": []
    },
    {
      "cell_type": "code",
      "source": [
        "# 3. Implementirajte funkciju kontrastnog gubitka\n",
        "def contrastive_loss(device, m = 1):\n",
        "  def loss(embedding1, embedding2, label):\n",
        "    ## TODO: Implement the contrastive loss\n",
        "    dist = F.pairwise_distance(embedding1,embedding2)\n",
        "    l = label * torch.pow(dist,2) + (1 - label) * torch.clamp(m*m - torch.pow(dist,2),min=0.0)\n",
        "    return torch.mean(l)\n",
        "  return loss"
      ],
      "metadata": {
        "id": "ocLdX6AeV8Hs"
      },
      "execution_count": 42,
      "outputs": []
    },
    {
      "cell_type": "code",
      "source": [
        "loss_module = contrastive_loss(device, 1)"
      ],
      "metadata": {
        "id": "5mQ4gzxZPCZ5"
      },
      "execution_count": 43,
      "outputs": []
    },
    {
      "cell_type": "code",
      "source": [
        "## Check if you implemented the loss correctly, the correct output should be 0.2750\n",
        "\n",
        "loss_module(torch.Tensor([[1, 1, 1], [0, 1, 1]]).to(device), torch.Tensor([[1, 0.8, 0.9], [0, 0.5, 0.5]]).to(device), torch.Tensor([1, 0]).to(device))"
      ],
      "metadata": {
        "id": "L3zViDb0u6Rd",
        "outputId": "632248b9-fb4c-4ad6-c4c0-c6d3315a5da1",
        "colab": {
          "base_uri": "https://localhost:8080/"
        }
      },
      "execution_count": 44,
      "outputs": [
        {
          "output_type": "execute_result",
          "data": {
            "text/plain": [
              "tensor(0.2750, device='cuda:0')"
            ]
          },
          "metadata": {},
          "execution_count": 44
        }
      ]
    },
    {
      "cell_type": "code",
      "source": [
        "def visualize_results(thresholds, results):\n",
        "  # thresholds is an array of values of the threshold, e.g. np.arange(0, 2, 0.1)\n",
        "  # results is an array of shape (len(thresholds), 3) where\n",
        "  # results[:,0] is the values of accuracy given the different thresholds\n",
        "  # and results[:,1] and results[:,2] are similarly values of precision and recall\n",
        "\n",
        "  fig, ax = plt.subplots()\n",
        "  ax.plot(thresholds, results[:,0], c='green', label='accuracy')\n",
        "  ax.plot(thresholds, results[:,1], c='blue', label='precision')\n",
        "  ax.plot(thresholds, results[:,2], c='orange', label='recall')\n",
        "  plt.legend(loc=\"lower right\")\n",
        "  plt.show()"
      ],
      "metadata": {
        "id": "NsiszX0nK8Hx"
      },
      "execution_count": null,
      "outputs": []
    },
    {
      "cell_type": "code",
      "source": [
        "def visualize(model, dataloader, n = 6):\n",
        "  ## visualize some examples of input pairs and the distance between their embeddings\n",
        "  fig = plt.figure(constrained_layout=True, figsize=(4, 2.2*n))\n",
        "  subfigs = fig.subfigures(nrows=n, ncols=1)\n",
        "\n",
        "  for i in range(n):\n",
        "    data = next(iter(dataloader))\n",
        "    data_inputs1 = data[0][i].unsqueeze(0)\n",
        "    data_inputs2 = data[1][i].unsqueeze(0)\n",
        "    data_labels = data[2][i].unsqueeze(0)\n",
        "\n",
        "    data_inputs1 = data_inputs1.to(device)\n",
        "    data_inputs2 = data_inputs2.to(device)\n",
        "    data_labels = data_labels.to(device)\n",
        "\n",
        "    embedding1, embedding2 = model((data_inputs1, data_inputs2))\n",
        "    dist = torch.linalg.norm(embedding1 - embedding2, dim = 1)\n",
        "\n",
        "    subfig = subfigs[i]\n",
        "    subfig.suptitle('Distance: %.4f, Label: %d'%(dist, data_labels), size='small')\n",
        "    ax = subfig.subplots(nrows=1, ncols=2)\n",
        "    img1_ = data_inputs1[0].cpu().numpy().transpose(1, 2, 0)\n",
        "    ax[0].imshow(img1_)\n",
        "    img2_ = data_inputs2[0].cpu().numpy().transpose(1, 2, 0)\n",
        "    ax[1].imshow(img2_)\n",
        "  plt.show()"
      ],
      "metadata": {
        "id": "sQKctD-2S3jX"
      },
      "execution_count": null,
      "outputs": []
    },
    {
      "cell_type": "code",
      "source": [],
      "metadata": {
        "id": "5DNgh7rsuqVc"
      },
      "execution_count": null,
      "outputs": []
    }
  ]
}